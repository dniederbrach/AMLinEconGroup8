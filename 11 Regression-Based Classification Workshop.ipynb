{
 "cells": [
  {
   "cell_type": "markdown",
   "metadata": {},
   "source": [
    "## Workshop - Regression-Based Classification\n",
    "\n",
    "Does `statsmodels` marginal effect use the average of covariates or the average predicted values? \n",
    "- Use the class data.\n",
    "- Show your work.\n",
    "\n",
    "Load the necessary packages and data:\n"
   ]
  },
  {
   "cell_type": "markdown",
   "metadata": {},
   "source": [
    "Devin watches basketball and he had his last favorite meal, Dominos pizza, a few weeks ago. Ikenna has been playing a lot of video games and ate sushi 2 months ago. Shreyas has been betting in basketball and he ate wings last Tuesday. Marko has been watching soccer and ate pepperoni pizza two weeks ago."
   ]
  },
  {
   "cell_type": "code",
   "execution_count": 9,
   "metadata": {},
   "outputs": [],
   "source": [
    "import pandas as pd\n",
    "import numpy as np\n",
    "import statsmodels.api as sm\n",
    "from sklearn.model_selection import train_test_split\n",
    "from sklearn import linear_model as lm"
   ]
  },
  {
   "cell_type": "code",
   "execution_count": 3,
   "metadata": {},
   "outputs": [],
   "source": [
    "data = pd.read_csv('C:/Users/Marko/Documents/ECON 490 AML Data/class_data.csv')"
   ]
  },
  {
   "cell_type": "markdown",
   "metadata": {},
   "source": [
    "Fit a logistic regression using either `sm.Logit()` or `smf.logit()`."
   ]
  },
  {
   "cell_type": "code",
   "execution_count": 6,
   "metadata": {},
   "outputs": [],
   "source": [
    "data = data.drop(columns = ['GeoName'])\n"
   ]
  },
  {
   "cell_type": "markdown",
   "metadata": {},
   "source": [
    "Get the marginal effects (`.get_margeff()`). Print the summary (`.summary()`)."
   ]
  },
  {
   "cell_type": "code",
   "execution_count": null,
   "metadata": {},
   "outputs": [],
   "source": []
  },
  {
   "cell_type": "markdown",
   "metadata": {},
   "source": [
    "***\n",
    "# Covariate Averages\n",
    "$$\n",
    "\\frac{\\partial p(x_i)}{\\partial \\beta_1} \\approx \\frac{e^{\\hat{\\beta}_0 + \\bar{x}\\hat{\\beta}_1 + \\bar{x}\\hat{\\beta_2}}}{(1 + e^{\\hat{\\beta}_0 + \\bar{x}\\hat{\\beta}_1 + \\bar{x}\\hat{\\beta_2}})^2}\\hat{\\beta}\n",
    "$$"
   ]
  },
  {
   "cell_type": "code",
   "execution_count": null,
   "metadata": {},
   "outputs": [],
   "source": []
  },
  {
   "cell_type": "code",
   "execution_count": null,
   "metadata": {},
   "outputs": [],
   "source": []
  },
  {
   "cell_type": "markdown",
   "metadata": {},
   "source": [
    "***\n",
    "# Predicted values Averages\n",
    "$$\n",
    "\\frac{\\partial p(x_i)}{\\partial \\beta_1} \\approx \\frac{1}{n} \\sum_{i=1}\n",
    "^n \\frac{e^{\\hat{y}_i}}{1 + e^{\\hat{y}_i}}\\hat{\\beta}\n",
    "$$"
   ]
  },
  {
   "cell_type": "code",
   "execution_count": null,
   "metadata": {},
   "outputs": [],
   "source": []
  },
  {
   "cell_type": "code",
   "execution_count": null,
   "metadata": {},
   "outputs": [],
   "source": []
  },
  {
   "cell_type": "markdown",
   "metadata": {},
   "source": [
    "*** \n",
    "# Interpretaton\n",
    "\n",
    "Interpret the marginal effect on one feature."
   ]
  },
  {
   "cell_type": "markdown",
   "metadata": {},
   "source": []
  }
 ],
 "metadata": {
  "kernelspec": {
   "display_name": "Python 3",
   "language": "python",
   "name": "python3"
  },
  "language_info": {
   "codemirror_mode": {
    "name": "ipython",
    "version": 3
   },
   "file_extension": ".py",
   "mimetype": "text/x-python",
   "name": "python",
   "nbconvert_exporter": "python",
   "pygments_lexer": "ipython3",
   "version": "3.8.5"
  }
 },
 "nbformat": 4,
 "nbformat_minor": 5
}
