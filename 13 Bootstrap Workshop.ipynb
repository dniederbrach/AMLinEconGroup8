{
 "cells": [
  {
   "cell_type": "markdown",
   "metadata": {},
   "source": [
    "## Workshop - Bootstrap\n",
    "\n",
    "Today we will\n",
    "\n",
    "1. Show the average unique number of observations when bootstrapping\n",
    "2. Estimate the standard deviation on the causal effect from a **RANDOMIZED CONTROL TRIAL**\n",
    "\n",
    "**************************************\n",
    "# Bootstrap Samples\n",
    "\n",
    "In one code cell:\n",
    "\n",
    "- import `numpy` and `numpy.random`\n",
    "- set the seed to 490\n",
    "- create *a range* from 0 to 10,000\n",
    "    - *hint: start with a smaller size to set up the framework*\n",
    "- create an empty list\n",
    "- in a 1,000 iteration for loop\n",
    "    - *hint: start with a smaller size to set up the framework*\n",
    "    - randomly sample your range your range with replacement with a size equal to the length of your range using `npr.choice()`\n",
    "    - append your empty list with the length of the the number of unique values from the sampling with replacement\n",
    "- output the average number of unique values over all bootstrapped samples"
   ]
  },
  {
   "cell_type": "code",
   "execution_count": 13,
   "metadata": {},
   "outputs": [
    {
     "name": "stderr",
     "output_type": "stream",
     "text": [
      "100%|█████████████████████████████████████████████████████████████████████████████| 1000/1000 [00:03<00:00, 327.52it/s]\n"
     ]
    },
    {
     "data": {
      "text/plain": [
       "0.6322176"
      ]
     },
     "execution_count": 13,
     "metadata": {},
     "output_type": "execute_result"
    }
   ],
   "source": [
    "import numpy as np\n",
    "import numpy.random as npr\n",
    "\n",
    "from tqdm import tqdm\n",
    "\n",
    "npr.seed(490)\n",
    "\n",
    "l = range(0,10001)\n",
    "l2 = []\n",
    "\n",
    "for i in tqdm(range(1000)):\n",
    "    indx = npr.choice(l, len(l), replace = True)\n",
    "    l2.append(len(set(indx)))\n",
    "    \n",
    "np.mean(l2)/10000"
   ]
  },
  {
   "cell_type": "markdown",
   "metadata": {},
   "source": [
    "Is this closer to 1/2, 2/3, or 3/4?"
   ]
  },
  {
   "cell_type": "markdown",
   "metadata": {},
   "source": [
    "2/3"
   ]
  },
  {
   "cell_type": "markdown",
   "metadata": {},
   "source": [
    "**************\n",
    "# Randomize Control Trial \n",
    "\n",
    "In economics, we call experiments with randomly assigned treatment and control groups __*randomized control trials*__. \n",
    "In data science, they are called _**A-B testing**_.\n",
    "\n",
    "In this application, we will be using a data set from [kaggle](https://www.kaggle.com/samtyagi/audacity-ab-testing). \n",
    "We will be using an LPM to estimate the effect of being in a treament group on clicking *something*.\n",
    "The data is from Audacity, however, there is no information about the experiment specifically. \n",
    "We do not know if this is showing different versions of a website, different versions of an advertisement, or something else entirely.\n",
    "\n"
   ]
  },
  {
   "cell_type": "code",
   "execution_count": 14,
   "metadata": {},
   "outputs": [],
   "source": [
    "import pandas as pd\n",
    "from tqdm import tqdm\n",
    "\n",
    "import statsmodels.api as sm\n",
    "from sklearn.linear_model import LinearRegression\n",
    "\n",
    "import matplotlib.pyplot as plt"
   ]
  },
  {
   "cell_type": "markdown",
   "metadata": {},
   "source": [
    "Load in the audacity data as `ab` with `index_col = timestamp`.\n",
    "Print the head."
   ]
  },
  {
   "cell_type": "code",
   "execution_count": 17,
   "metadata": {},
   "outputs": [
    {
     "name": "stdout",
     "output_type": "stream",
     "text": [
      "                                id       group action\n",
      "timestamp                                            \n",
      "2016-09-24 17:42:27.839496  804196  experiment   view\n",
      "2016-09-24 19:19:03.542569  434745  experiment   view\n",
      "2016-09-24 19:36:00.944135  507599  experiment   view\n"
     ]
    }
   ],
   "source": [
    "ab = pd.read_csv('homepage_actions.csv', index_col = 'timestamp')\n",
    "print(ab.head(3))"
   ]
  },
  {
   "cell_type": "markdown",
   "metadata": {},
   "source": [
    "Determine the unique values of `group` and `action`"
   ]
  },
  {
   "cell_type": "code",
   "execution_count": null,
   "metadata": {},
   "outputs": [],
   "source": [
    "ab.group"
   ]
  },
  {
   "cell_type": "markdown",
   "metadata": {},
   "source": [
    "Create a dummy variable `treatment` for those in the treatment group.\n",
    "Create a dummy variable `click` for those that clicked."
   ]
  },
  {
   "cell_type": "code",
   "execution_count": null,
   "metadata": {},
   "outputs": [],
   "source": []
  },
  {
   "cell_type": "markdown",
   "metadata": {},
   "source": [
    "Create an object `x` that is the model matrix composed of a constant and the `treatment` variable.\n",
    "Create an object `y` that is the `click` variable."
   ]
  },
  {
   "cell_type": "code",
   "execution_count": null,
   "metadata": {},
   "outputs": [],
   "source": []
  },
  {
   "cell_type": "markdown",
   "metadata": {},
   "source": [
    "In one line, fit a statsmodel OLS and print the summary. \n",
    "Note the estimate and standard error on the `treatment` variable."
   ]
  },
  {
   "cell_type": "code",
   "execution_count": null,
   "metadata": {},
   "outputs": [],
   "source": []
  },
  {
   "cell_type": "markdown",
   "metadata": {},
   "source": [
    "Here we will perform the bootstrap in one code cell.\n",
    "\n",
    "- set the `npr` seed to 490\n",
    "- define `n` equal to the number of rows of `ab`\n",
    "- create an empty list `beta`\n",
    "- set up a for loop over 2,000 iterations using tqdm\n",
    "    - use `npr.choice()` to obtain the bootstrap index\n",
    "    - fit a `LinearRegression()`\n",
    "        - *hint:* `X` *needs to be a DataFrame, not a Series. Select the* `treatment` *variable using* `ab[['treatment']].iloc[indx]`. `y` *needs to be a Series. Select with only single square brackets.*\n",
    "    - append the `fit.coef_` to beta\n",
    "        - *Note: the intercept, which we do not need, is contained seperately in* `fit.intercept_`."
   ]
  },
  {
   "cell_type": "code",
   "execution_count": null,
   "metadata": {},
   "outputs": [],
   "source": []
  },
  {
   "cell_type": "markdown",
   "metadata": {},
   "source": [
    "Using one `print()` statment, print the average `beta` with 3 decimal places and the standard deviation of `beta` with 4 decimal places."
   ]
  },
  {
   "cell_type": "code",
   "execution_count": null,
   "metadata": {},
   "outputs": [],
   "source": []
  },
  {
   "cell_type": "markdown",
   "metadata": {},
   "source": [
    "Up next, we will produce a histogram. However, we need to perform some preprocessing.\n",
    "\n",
    "Print the top five observations of `beta` using a slice. Note the format."
   ]
  },
  {
   "cell_type": "code",
   "execution_count": null,
   "metadata": {},
   "outputs": [],
   "source": []
  },
  {
   "cell_type": "markdown",
   "metadata": {},
   "source": [
    "To convert to a list we can work with\n",
    "\n",
    "- use `np.concatenate()` on `beta`\n",
    "- chain the `.flat` attribute\n",
    "- wrap the whole thing with `list()`\n",
    "- overwrite `beta`"
   ]
  },
  {
   "cell_type": "code",
   "execution_count": null,
   "metadata": {},
   "outputs": [],
   "source": []
  },
  {
   "cell_type": "markdown",
   "metadata": {},
   "source": [
    "Finally, use `matplotlib` to create a histogram of `beta`. "
   ]
  },
  {
   "cell_type": "code",
   "execution_count": null,
   "metadata": {},
   "outputs": [],
   "source": []
  }
 ],
 "metadata": {
  "kernelspec": {
   "display_name": "Python 3",
   "language": "python",
   "name": "python3"
  },
  "language_info": {
   "codemirror_mode": {
    "name": "ipython",
    "version": 3
   },
   "file_extension": ".py",
   "mimetype": "text/x-python",
   "name": "python",
   "nbconvert_exporter": "python",
   "pygments_lexer": "ipython3",
   "version": "3.7.6"
  }
 },
 "nbformat": 4,
 "nbformat_minor": 5
}
